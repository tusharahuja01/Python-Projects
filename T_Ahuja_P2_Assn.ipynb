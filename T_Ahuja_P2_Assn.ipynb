{
 "cells": [
  {
   "cell_type": "markdown",
   "id": "9b183691",
   "metadata": {},
   "source": [
    "# DAV 5400 Project 2\n",
    "**(Working with HTML, JSON, Web Scraping, and Web APIs)**\n",
    "\n",
    "\n"
   ]
  },
  {
   "cell_type": "markdown",
   "id": "860e56a6",
   "metadata": {},
   "source": [
    "## Team Name - Analytical Avengers\n",
    "1. Tushar Ahuja\n",
    "2. Pranav Sethi\n",
    "3. Akshita Phogat"
   ]
  },
  {
   "cell_type": "markdown",
   "id": "4f55a9fd",
   "metadata": {},
   "source": [
    "## SYNOPSIS:\n",
    "\n",
    "This document outlines a project that involves working with HTML, JSON, web scraping, and web APIs. In the first part, the task is to create HTML and JSON files containing information about three albums, and then load this data into Pandas data frames using Python. The second part involves scraping the Katz School's \"Staff\" web page to extract specific information about staff members and store it in a Pandas data frame. The final part requires interacting with the newsdata.io API to retrieve and analyze news data, presenting the results in a professional-quality Jupyter Notebook."
   ]
  },
  {
   "cell_type": "markdown",
   "id": "dff1e237",
   "metadata": {},
   "source": [
    "# Part I: Working with HTML and JSON\n",
    "\n",
    "**Here are a few key points regarding part 1:**\n",
    "\n",
    "1. Select three albums/CDs from different musical artists.\n",
    "2. Create two files: One file in HTML format containing the album information in a table and Another file in JSON format with the same album information.\n",
    "3. Post the two files to your GitHub repository.\n",
    "4. Load the information from each of the two files into separate Pandas dataframes in Python.\n",
    "5. Compare the two dataframes to check if they are identical. "
   ]
  },
  {
   "cell_type": "markdown",
   "id": "8c7b392e",
   "metadata": {},
   "source": [
    ">> ### Providing definitions"
   ]
  },
  {
   "cell_type": "markdown",
   "id": "a453f079",
   "metadata": {},
   "source": [
    " "
   ]
  },
  {
   "cell_type": "markdown",
   "id": "b5c9d851",
   "metadata": {},
   "source": [
    "## HTML Format:\n",
    "\n",
    "HTML (Hypertext Markup Language) is a standard markup language used to create and design web pages. It consists of a series of elements that define the structure and content of a webpage. HTML elements are represented by tags enclosed in angle brackets, with the content of the element placed between the opening and closing tags."
   ]
  },
  {
   "cell_type": "markdown",
   "id": "782e9dbb",
   "metadata": {},
   "source": [
    "## JSON Format: \n",
    "\n",
    "JSON (JavaScript Object Notation) is a lightweight data-interchange format that is easy for humans to read and write and easy for machines to parse and generate. It is often used to exchange data between a server and a web application, as JSON is a common format for transmitting structured data over a network connection. "
   ]
  },
  {
   "cell_type": "markdown",
   "id": "d9c77d94",
   "metadata": {},
   "source": [
    "## PANDAS Dataframes:\n",
    "\n",
    "A Pandas DataFrame is a two-dimensional, size-mutable, tabular data structure in the Pandas library for Python. It is similar to a spreadsheet or SQL table, where data is stored in rows and columns. DataFrames are widely used in data manipulation, analysis, and visualization tasks."
   ]
  },
  {
   "cell_type": "markdown",
   "id": "81b8dc47",
   "metadata": {},
   "source": [
    " "
   ]
  },
  {
   "cell_type": "markdown",
   "id": "eb7913ac",
   "metadata": {},
   "source": [
    "## <font color = blue>To load data from an HTML file into a Pandas DataFrame, you can use the read_html() function provided by Pandas. Here's a step-by-step guide on how to do this:"
   ]
  },
  {
   "cell_type": "markdown",
   "id": "d584dc58",
   "metadata": {},
   "source": [
    "> <font color = red> **1. Install Pandas:** If you haven't already, you can install the Pandas library using pip:**"
   ]
  },
  {
   "cell_type": "code",
   "execution_count": null,
   "id": "7a9c9d61",
   "metadata": {},
   "outputs": [],
   "source": [
    "pip install pandas"
   ]
  },
  {
   "cell_type": "markdown",
   "id": "c3f481e7",
   "metadata": {},
   "source": [
    "> <font color = red>**2. Create an HTML File:** First, you need to have an HTML file that contains the data you want to load. Make sure the data is structured in a tabular format within the HTML file.**"
   ]
  },
  {
   "cell_type": "markdown",
   "id": "6814c58c",
   "metadata": {},
   "source": [
    " **Github URL** - https://raw.githubusercontent.com/tusharahuja01/DAV-5400/main/albums.html"
   ]
  },
  {
   "cell_type": "markdown",
   "id": "17c61a6c",
   "metadata": {},
   "source": [
    "> <font color = red> **3. Use the Pandas read_html() Function:** Use the following code snippet to read the data from the HTML file into a Pandas DataFrame:**"
   ]
  },
  {
   "cell_type": "code",
   "execution_count": 53,
   "id": "cdb20e2d",
   "metadata": {},
   "outputs": [
    {
     "name": "stdout",
     "output_type": "stream",
     "text": [
      "                    Title                                Artist  \\\n",
      "0                Dil Se..                          A. R. Rahman   \n",
      "1  Kabhi Alvida Naa Kehna                    Shankar-Ehsaan-Loy   \n",
      "2              Aashiqui 2  Mithoon, Ankit Tiwari, Jeet Gannguli   \n",
      "\n",
      "                                              Tracks  Year  \n",
      "0  Chaiyya Chaiyya, Jiya Jale, Dil Se Re, Ae Ajna...  1998  \n",
      "1  Mitwa, Tumhi Dekho Naa, Kabhi Alvida Naa Kehna...  2006  \n",
      "2  Tum Hi Ho, Sunn Raha Hai, Chahun Main Ya Na, B...  2013  \n"
     ]
    }
   ],
   "source": [
    "import pandas as pd\n",
    "\n",
    "# Specify the path to the HTML file\n",
    "html_file = 'https://raw.githubusercontent.com/tusharahuja01/DAV-5400/main/albums.html'\n",
    "\n",
    "# Read the HTML file into a list of DataFrames\n",
    "dfs = pd.read_html(html_file)\n",
    "\n",
    "# Select the DataFrame from the list (if there are multiple tables in the HTML file)\n",
    "html_df = dfs[0]\n",
    "\n",
    "# Display the DataFrame\n",
    "print(html_df)"
   ]
  },
  {
   "cell_type": "markdown",
   "id": "644e6baf",
   "metadata": {},
   "source": [
    " "
   ]
  },
  {
   "cell_type": "markdown",
   "id": "6398a52c",
   "metadata": {},
   "source": [
    "## In the code above:\n",
    "\n",
    "* **html_file** should be replaced with the actual path to your HTML file.\n",
    "* The **read_html()** function reads the HTML file and returns a list of DataFrames, where each DataFrame represents a table found in the HTML file.\n",
    "* If there is only one table in the HTML file, you can directly access it from the list of DataFrames with **dfs[0]**.\n",
    "* Finally, the DataFrame is printed to display the data extracted from the HTML file.\n",
    "\n",
    "By following these steps, you can easily load data from an HTML file into a Pandas DataFrame for further data analysis and manipulation."
   ]
  },
  {
   "cell_type": "markdown",
   "id": "3207092c",
   "metadata": {},
   "source": [
    "----------------------------------------------------"
   ]
  },
  {
   "cell_type": "markdown",
   "id": "7ed5480d",
   "metadata": {},
   "source": [
    "## <font color = blue> To load data from a JSON file into a Pandas DataFrame, you can use the pd.read_json() function provided by Pandas. Here's a step-by-step guide on how to do this:"
   ]
  },
  {
   "cell_type": "markdown",
   "id": "39d568b8",
   "metadata": {},
   "source": [
    "> <font color = red> **1. Install Pandas:** If you haven't already, you can install the Pandas library using pip:"
   ]
  },
  {
   "cell_type": "code",
   "execution_count": null,
   "id": "7b5dd5e7",
   "metadata": {},
   "outputs": [],
   "source": [
    "pip install pandas"
   ]
  },
  {
   "cell_type": "markdown",
   "id": "c2892ce3",
   "metadata": {},
   "source": [
    "> <font color = red>**2. Create a JSON File:** First, you need to have a JSON file that contains the data you want to load. The data in the JSON file should be formatted as a valid JSON object."
   ]
  },
  {
   "cell_type": "markdown",
   "id": "0c88ad13",
   "metadata": {},
   "source": [
    "**Github URL** - https://raw.githubusercontent.com/tusharahuja01/DAV-5400/main/albums.json"
   ]
  },
  {
   "cell_type": "markdown",
   "id": "ef4e851a",
   "metadata": {},
   "source": [
    "> <font color = red>**3. Use the Pandas read_json() Function:** Use the following code snippet to read the data from the JSON file into a Pandas DataFrame:"
   ]
  },
  {
   "cell_type": "code",
   "execution_count": 54,
   "id": "743c4d71",
   "metadata": {},
   "outputs": [
    {
     "name": "stdout",
     "output_type": "stream",
     "text": [
      "                                              albums\n",
      "0  {'title': 'Dil Se..', 'artist': 'A. R. Rahman'...\n",
      "1  {'title': 'Kabhi Alvida Naa Kehna', 'artist': ...\n",
      "2  {'title': 'Aashiqui 2', 'artist': 'Mithoon, An...\n"
     ]
    }
   ],
   "source": [
    "import pandas as pd\n",
    "\n",
    "# Specify the path to the JSON file\n",
    "json_file = 'https://raw.githubusercontent.com/tusharahuja01/DAV-5400/main/albums.json'\n",
    "\n",
    "# Read the JSON file into a Pandas DataFrame\n",
    "json_df = pd.read_json(json_file)\n",
    "\n",
    "# Display the DataFrame\n",
    "print(json_df) "
   ]
  },
  {
   "cell_type": "markdown",
   "id": "befdcb63",
   "metadata": {},
   "source": [
    "## In the code above:\n",
    "\n",
    "* **json_file** should be replaced with the actual path to your JSON file.\n",
    "* The **read_json()** function reads the JSON file and converts it into a Pandas DataFrame.\n",
    "* The DataFrame is then printed to display the data loaded from the JSON file.\n",
    "\n",
    "By following these steps, you can easily load data from a JSON file into a Pandas DataFrame for further data analysis and manipulation. This method is useful for working with JSON data sources in your Python data analysis projects."
   ]
  },
  {
   "cell_type": "markdown",
   "id": "296cca2f",
   "metadata": {},
   "source": [
    " "
   ]
  },
  {
   "cell_type": "markdown",
   "id": "955256db",
   "metadata": {},
   "source": [
    "# <font color = blue> Check if the two DataFrames are equal. (HTML/JSON)"
   ]
  },
  {
   "cell_type": "markdown",
   "id": "278f18fd",
   "metadata": {},
   "source": [
    "Compare if the two data frames are identical: You can compare if the two data frames are identical by using the **equals()** method from Pandas. This method returns True if the two DataFrames are identical."
   ]
  },
  {
   "cell_type": "code",
   "execution_count": 55,
   "id": "91af8ca0",
   "metadata": {},
   "outputs": [
    {
     "name": "stdout",
     "output_type": "stream",
     "text": [
      "\n",
      "The two DataFrames are not identical.\n"
     ]
    }
   ],
   "source": [
    "# Compare if the two DataFrames are identical\n",
    "if html_df.equals(json_df):\n",
    "    print(\"\\nThe two DataFrames are identical.\")\n",
    "else:\n",
    "    print(\"\\nThe two DataFrames are not identical.\")"
   ]
  },
  {
   "cell_type": "markdown",
   "id": "5d13b510",
   "metadata": {},
   "source": [
    "## <font color = blue> Why aren't the dataframes identical ?"
   ]
  },
  {
   "cell_type": "markdown",
   "id": "14c3cd0e",
   "metadata": {},
   "source": [
    "Above two DataFrames html_df and json_df are not considered identical despite representing the same dataset, there are several potential reasons for this discrepancy:\n",
    "\n",
    "* **Data Representation:** The HTML and JSON formats may represent the data differently, even if they contain the same information. For example, the HTML table might have additional attributes or elements that are not present in the JSON representation.\n",
    "\n",
    "* **Data Types:** The data types of columns may differ between the two DataFrames. For instance, numeric data may be represented as strings in one format and integers or floats in the other.\n",
    "\n",
    "* **Index:** If the DataFrames have different indices, even though their content is the same, the equals() method will return False. You may need to reset the indices of both DataFrames before comparing them.\n",
    "\n",
    "* **Whitespace and Formatting:** Differences in whitespace, formatting, or encoding can also lead to differences when comparing the two DataFrames.\n",
    "\n",
    "* **Missing Values:** If one format represents missing values differently from the other (e.g., NaN in JSON and empty strings in HTML), this could result in the DataFrames being considered non-identical.\n",
    "\n",
    "To investigate further, you can compare the specific values, data types, and indices of the DataFrames to identify the exact differences between them. You can also try to normalize the data representation or handle differences in data types to ensure that the DataFrames are considered identical if their content is the same."
   ]
  },
  {
   "cell_type": "code",
   "execution_count": null,
   "id": "f9d5b7f5",
   "metadata": {},
   "outputs": [],
   "source": [
    "html_df.compare(json_df)"
   ]
  },
  {
   "cell_type": "markdown",
   "id": "bd8fb6b9",
   "metadata": {},
   "source": [
    " "
   ]
  },
  {
   "cell_type": "markdown",
   "id": "41616ab1",
   "metadata": {},
   "source": [
    "---"
   ]
  },
  {
   "cell_type": "markdown",
   "id": "16744eb6",
   "metadata": {},
   "source": [
    "  "
   ]
  },
  {
   "cell_type": "markdown",
   "id": "1aa1345d",
   "metadata": {},
   "source": [
    "# Part II: Scraping the Katz School’s “Staff” Web Page"
   ]
  },
  {
   "cell_type": "markdown",
   "id": "0aaa8590",
   "metadata": {},
   "source": [
    "**To complete Part II of the project, follow these steps:**\n",
    "\n",
    "1. Access the Katz School staff information page using web scraping techniques.\n",
    "2. Parse the HTML content of the page using BeautifulSoup.\n",
    "3. Locate the specific content within the HTML (e.g., div with class=\"text-only\") and assign it to a variable.\n",
    "4. Create a Pandas dataframe named staff_info with columns for office, name, title, email, and phone.\n",
    "5. Extract each staff member's name, title, email address (if available), and phone number (if available) from the HTML content and save them to the staff_info dataframe.\n",
    "6. Handle missing data by replacing empty fields with \"N/A\" in the dataframe.\n",
    "7. Display the content of the dataframe in your Jupyter Notebook to verify the accuracy of the extracted data."
   ]
  },
  {
   "cell_type": "markdown",
   "id": "b6e1ebac",
   "metadata": {},
   "source": [
    ">> ### Providing definition"
   ]
  },
  {
   "cell_type": "markdown",
   "id": "f338c391",
   "metadata": {},
   "source": [
    "## Web Scraping: \n",
    "\n",
    "The process of extracting data from websites. It involves fetching the web page and then extracting the desired information from the HTML code."
   ]
  },
  {
   "cell_type": "markdown",
   "id": "00bbf65b",
   "metadata": {},
   "source": [
    "## Web APIs (Application Programming Interfaces): \n",
    "\n",
    "Interfaces that allow different software applications to communicate with each other. Web APIs enable the exchange of data and functionality between different systems over the internet."
   ]
  },
  {
   "cell_type": "markdown",
   "id": "b7fdd863",
   "metadata": {},
   "source": [
    "## BeautifulSoup:\n",
    "\n",
    "A Python library for pulling data out of HTML and XML files. It provides tools for parsing HTML and navigating the parsed tree structure."
   ]
  },
  {
   "cell_type": "markdown",
   "id": "aba92dd8",
   "metadata": {},
   "source": [
    " "
   ]
  },
  {
   "cell_type": "markdown",
   "id": "00ba10cc",
   "metadata": {},
   "source": [
    "## To complete Part II of the project, which involves scraping the Katz School staff page, parsing the HTML content, extracting staff information, and storing it in a Pandas dataframe, you can follow the detailed steps below:"
   ]
  },
  {
   "cell_type": "markdown",
   "id": "38af88af",
   "metadata": {},
   "source": [
    "> **1. Import Necessary Libraries:**"
   ]
  },
  {
   "cell_type": "markdown",
   "id": "c1d56d1a",
   "metadata": {},
   "source": [
    "Here, we import the requests library for making HTTP requests, BeautifulSoup for parsing HTML content, and Pandas for working with data in tabular form."
   ]
  },
  {
   "cell_type": "code",
   "execution_count": 56,
   "id": "db872327",
   "metadata": {},
   "outputs": [],
   "source": [
    "import requests\n",
    "from bs4 import BeautifulSoup\n",
    "import pandas as pd\n",
    "import re"
   ]
  },
  {
   "cell_type": "markdown",
   "id": "80a59870",
   "metadata": {},
   "source": [
    "> **2. Send a GET request to the URL and parse the HTML content:**"
   ]
  },
  {
   "cell_type": "markdown",
   "id": "750889b2",
   "metadata": {},
   "source": [
    "In this section, we send a GET request to the specified URL and parse the HTML content of the webpage using BeautifulSoup."
   ]
  },
  {
   "cell_type": "code",
   "execution_count": 57,
   "id": "a97c94f0",
   "metadata": {},
   "outputs": [],
   "source": [
    "url = 'https://www.yu.edu/katz/staff'\n",
    "response = requests.get(url)\n",
    "soup = BeautifulSoup(response.content, 'html.parser')"
   ]
  },
  {
   "cell_type": "markdown",
   "id": "1905b531",
   "metadata": {},
   "source": [
    "> **3. Initialize an empty list to store staff information:**"
   ]
  },
  {
   "cell_type": "markdown",
   "id": "8548a017",
   "metadata": {},
   "source": [
    "Initializes an empty list to store information about each staff member extracted from the webpage."
   ]
  },
  {
   "cell_type": "code",
   "execution_count": null,
   "id": "2382d8de",
   "metadata": {},
   "outputs": [],
   "source": [
    "staff_info = []"
   ]
  },
  {
   "cell_type": "markdown",
   "id": "2500403e",
   "metadata": {},
   "source": [
    "> **4. Locating the div with class \"text-only\":**"
   ]
  },
  {
   "cell_type": "markdown",
   "id": "5b54f8b6",
   "metadata": {},
   "source": [
    "We locate the div element with the class \"text-only\" where the staff information is contained."
   ]
  },
  {
   "cell_type": "code",
   "execution_count": 58,
   "id": "1c66904f",
   "metadata": {},
   "outputs": [],
   "source": [
    "staff_entries = soup.find_all('div', class_='text-only')"
   ]
  },
  {
   "cell_type": "markdown",
   "id": "343a4999",
   "metadata": {},
   "source": [
    "> **5.  Initialize a variable to store the current office:**"
   ]
  },
  {
   "cell_type": "markdown",
   "id": "8a3b7274",
   "metadata": {},
   "source": [
    "Initializes a variable office with None value, which will be used to store the current office of the staff member being processed."
   ]
  },
  {
   "cell_type": "code",
   "execution_count": null,
   "id": "c47cb221",
   "metadata": {},
   "outputs": [],
   "source": [
    "current_office = None"
   ]
  },
  {
   "cell_type": "markdown",
   "id": "6faff80a",
   "metadata": {},
   "source": [
    "> **6. Iterate through each staff entry and process the information:**"
   ]
  },
  {
   "cell_type": "markdown",
   "id": "2b9bac2c",
   "metadata": {},
   "source": [
    "Loops through each staff entry (member) found within the staff container and processes the information for each staff member."
   ]
  },
  {
   "cell_type": "code",
   "execution_count": 59,
   "id": "7c9e973b",
   "metadata": {},
   "outputs": [],
   "source": [
    "for entry in staff_entries:\n",
    "    for p in entry.find_all('p'):\n",
    "        if p.find_previous('h3'):\n",
    "            current_office = p.find_previous('h3').text.strip()\n",
    "        p_text = p.get_text(separator='\\n', strip=True)\n",
    "        \n",
    "        name_title_match = re.match(r'([^,]+),(.*)', p_text)\n",
    "        if name_title_match:\n",
    "            name = name_title_match.group(1).strip()\n",
    "            title = name_title_match.group(2).strip()\n",
    "        else:\n",
    "            name = \"N/A\"\n",
    "            title = \"N/A\"\n",
    "\n",
    "        email_match = re.search(r'[\\w\\.-]+@[\\w\\.-]+', p_text)\n",
    "        email = email_match.group() if email_match else \"N/A\"\n",
    "\n",
    "        phone_match = re.search(r'\\b\\d{3}[-.\\s]?\\d{3}[-.\\s]?\\d{4}\\b', p_text)\n",
    "        phone = phone_match.group() if phone_match else \"N/A\"\n",
    "\n",
    "        staff_info.append({\n",
    "            'Office': current_office,\n",
    "            'Name': name,\n",
    "            'Title': title,\n",
    "            'Email': email,\n",
    "            'Phone': phone\n",
    "        })"
   ]
  },
  {
   "cell_type": "markdown",
   "id": "a3be8361",
   "metadata": {},
   "source": [
    "> **7. Displaying the extracted staff information:**"
   ]
  },
  {
   "cell_type": "markdown",
   "id": "01dccc8c",
   "metadata": {},
   "source": [
    "This loop iterates over each row in the staff_info DataFrame and prints the office, name, title, email, and phone number of each staff member."
   ]
  },
  {
   "cell_type": "code",
   "execution_count": 60,
   "id": "c0e87228",
   "metadata": {},
   "outputs": [],
   "source": [
    "for index, row in staff_info_df.iterrows():\n",
    "    print(f\"Office: {row['Office']}\")\n",
    "    print(f\"Name: {row['Name']}\")\n",
    "    print(f\"Title: {row['Title']}\")\n",
    "    print(f\"Email: {row['Email']}\")\n",
    "    print(f\"Phone: {row['Phone']}\")\n",
    "    print()"
   ]
  },
  {
   "cell_type": "markdown",
   "id": "3d56f978",
   "metadata": {},
   "source": [
    " "
   ]
  },
  {
   "cell_type": "markdown",
   "id": "ecee2941",
   "metadata": {},
   "source": [
    "# Approach "
   ]
  },
  {
   "cell_type": "markdown",
   "id": "180ea41f",
   "metadata": {},
   "source": [
    "Here is an approach to extracting staff information from the Katz School's \"Staff\" webpage using Python, BeautifulSoup, and Pandas:\n",
    "\n",
    "1. **Inspect the webpage**: Start by viewing the source code of the \"Staff\" webpage to identify the HTML structure and the elements that contain the staff information. Look for classes or tags that uniquely identify each staff member's details, such as name, title, email, and phone number.\n",
    "\n",
    "2. **Use BeautifulSoup for web scraping**: Use the BeautifulSoup library in Python to parse the HTML content of the webpage and locate the specific elements that contain the staff information. You can use find() or find_all() functions to extract the desired data.\n",
    "\n",
    "3. **Extract and store data**: Once you have identified the relevant HTML elements, extract the staff information such as name, title, email, phone number, etc. Store this information in a structured format, such as a list of dictionaries or a Pandas DataFrame.\n",
    "\n",
    "4. **Data cleaning (if necessary)**: Perform any necessary data cleaning or formatting steps to ensure the extracted information is consistent and usable. This may involve removing unnecessary characters, handling missing data, or converting data types.\n",
    "\n",
    "5. **Display or save the data**: Finally, you can choose to display the extracted staff information in the console, save it to a file, or incorporate it into a database for further analysis or use.\n",
    "\n",
    "By following these steps, you can effectively extract staff information from the Katz School's \"Staff\" webpage and work with the data in a structured manner using Python and its libraries."
   ]
  },
  {
   "cell_type": "markdown",
   "id": "481c0fae",
   "metadata": {},
   "source": [
    "## Final Code"
   ]
  },
  {
   "cell_type": "code",
   "execution_count": 84,
   "id": "4f7954ea",
   "metadata": {},
   "outputs": [
    {
     "name": "stdout",
     "output_type": "stream",
     "text": [
      "Office: Office of the Dean\n",
      "Name: Paul Russo\n",
      "Title: Vice Provost and Dean\n",
      "Email: N/A\n",
      "Phone: N/A\n",
      "\n",
      "Office: Office of the Dean\n",
      "Name: Aaron Ross\n",
      "Title: Assistant Dean for Academic Programs and Deputy to the Dean\n",
      "Email: aaron.ross2@yu.edu\n",
      "Phone: 646-592-4148\n",
      "\n",
      "Office: Office of the Dean\n",
      "Name: Jackie Hamilton\n",
      "Title: Executive Director of Enrollment Management and Partnerships\n",
      "Email: jackie.hamilton@yu.edu\n",
      "Phone: 646-787-6194\n",
      "\n",
      "Office: Office of the Dean\n",
      "Name: Pamela Rodman\n",
      "Title: Director of Finance and Administration\n",
      "Email: pamela.rodman@yu.edu\n",
      "Phone: 646.592.4777\n",
      "\n",
      "Office: Office of the Dean\n",
      "Name: Tabitha Collazo\n",
      "Title: Business and Operations Coordinator\n",
      "Email: tabitha.collazo@yu.edu\n",
      "Phone: 646-592-4735\n",
      "\n",
      "Office: Office of the Dean\n",
      "Name: Ann Leary\n",
      "Title: \n",
      "Email: ann.leary@yu.edu\n",
      "Phone: 646-592-4724\n",
      "\n",
      "Office: Graduate Admissions\n",
      "Name: Jared Hakimi\n",
      "Title: Director\n",
      "Email: jared.hakimi@yu.edu\n",
      "Phone: 646-592-4722\n",
      "\n",
      "Office: Graduate Admissions\n",
      "Name: Xavier Velasquez\n",
      "Title: Associate Director of Graduate Admissions Operations\n",
      "Email: xavier.velasquez@yu.edu\n",
      "Phone: 646-592-4737\n",
      "\n",
      "Office: Graduate Admissions\n",
      "Name: Shayna Matzner\n",
      "Title: Assistant Director\n",
      "Email: shayna.matzner@yu.edu\n",
      "Phone: 646-592-4726\n",
      "\n",
      "Office: Graduate Admissions\n",
      "Name: Linyu Zheng\n",
      "Title: Assistant Director\n",
      "Email: linyu.zheng@yu.edu\n",
      "Phone: 332-271-5865\n",
      "\n",
      "Office: Graduate Admissions\n",
      "Name: Hyokyeong \"Kyeong\" Yu\n",
      "Title: International Student Advisor\n",
      "Email: hyokyeong.yu@yu.edu\n",
      "Phone: 646-592-4736\n",
      "\n",
      "Office: Graduate Admissions\n",
      "Name: Aman Sharma\n",
      "Title: Recruitment Manager - South Asia\n",
      "Email: aman.sharma@yu.edu\n",
      "Phone: 870 053 5893\n",
      "\n",
      "Office: Graduate Student Life\n",
      "Name: Rafael Reyes\n",
      "Title: Director of Graduate Student Life and Community Engagement\n",
      "Email: rafael.reyes@yu.edu\n",
      "Phone: 646-592-4729\n",
      "\n",
      "Office: Academic Operations and Teaching and Learning\n",
      "Name: John Vivolo\n",
      "Title: Executive Director of Academic Operations and Teaching and Learning\n",
      "Email: john.vivolo@yu.edu\n",
      "Phone: 646-592-4743\n",
      "\n",
      "Office: Academic Operations and Teaching and Learning\n",
      "Name: Suzette Sadio\n",
      "Title: Academic Program Coordinator, Occupational Therapy Doctorate\n",
      "Email: suzette.sadio@yu.edu\n",
      "Phone: 646-592-4762\n",
      "\n",
      "Office: Academic Operations and Teaching and Learning\n",
      "Name: Gladys Davis\n",
      "Title: Program Manager, Physician Assistant Studies\n",
      "Email: gladys.davis@yu.edu\n",
      "Phone: 646-592-4034\n",
      "\n",
      "Office: Academic Operations and Teaching and Learning\n",
      "Name: Shianne McLean\n",
      "Title: Program Assistant, Speech-Language Pathology\n",
      "Email: shianne.mclean@yu.edu\n",
      "Phone: N/A\n",
      "\n",
      "Office: Academic Operations and Teaching and Learning\n",
      "Name: Ariana Allias\n",
      "Title: Program Manager, STEM\n",
      "Email: ariana.allias@yu.edu\n",
      "Phone: N/A\n",
      "\n",
      "Office: Academic Operations and Teaching and Learning\n",
      "Name: Lloyd Carew-Reid\n",
      "Title: Instructional Designer\n",
      "Email: lloyd.carew-reid@yu.edu\n",
      "Phone: 646-592-4768\n",
      "\n",
      "Office: Academic Operations and Teaching and Learning\n",
      "Name: Denton Field\n",
      "Title: Media Production Manager\n",
      "Email: denton.field@yu.edu\n",
      "Phone: N/A\n",
      "\n"
     ]
    }
   ],
   "source": [
    "import requests\n",
    "from bs4 import BeautifulSoup\n",
    "import pandas as pd\n",
    "import re\n",
    "\n",
    "url = 'https://www.yu.edu/katz/staff'\n",
    "response = requests.get(url)\n",
    "soup = BeautifulSoup(response.content, 'html.parser')\n",
    "\n",
    "# Initialize the list to store staff information\n",
    "staff_info = []\n",
    "\n",
    "# Find all staff entries within the HTML\n",
    "staff_entries = soup.find_all('div', class_='text-only')\n",
    "\n",
    "# Initialize a variable to store the current office\n",
    "current_office = None\n",
    "\n",
    "# Iterate through each staff entry\n",
    "for entry in staff_entries:\n",
    "    # Iterate through each <p> tag in the current entry\n",
    "    for p in entry.find_all('p'):\n",
    "        # Check if the <p> tag is within an <h3> tag (office)\n",
    "        if p.find_previous('h3'):\n",
    "            # Update the current office\n",
    "            current_office = p.find_previous('h3').text.strip()\n",
    "\n",
    "        # Get the text content without HTML tags\n",
    "        p_text = p.get_text(separator='\\n', strip=True)\n",
    "\n",
    "        # Extract name, title, email, and phone\n",
    "        # Extract name and title based on the first comma\n",
    "        name_title_match = re.match(r'([^,]+),(.*)', p_text)\n",
    "        if name_title_match:\n",
    "            name = name_title_match.group(1).strip()\n",
    "            title = name_title_match.group(2).strip()\n",
    "        else:\n",
    "            name = \"N/A\"\n",
    "            title = \"N/A\"\n",
    "\n",
    "        email_match = re.search(r'[\\w\\.-]+@[\\w\\.-]+', p_text)\n",
    "        email = email_match.group() if email_match else \"N/A\"\n",
    "\n",
    "        phone_match = re.search(r'\\b\\d{3}[-.\\s]?\\d{3}[-.\\s]?\\d{4}\\b', p_text)\n",
    "        phone = phone_match.group() if phone_match else \"N/A\"\n",
    "\n",
    "        # Append the information to the staff_info list\n",
    "        staff_info.append({\n",
    "            'Office': current_office,\n",
    "            'Name': name,\n",
    "            'Title': title,\n",
    "            'Email': email,\n",
    "            'Phone': phone\n",
    "        })\n",
    "\n",
    "# Filter out entries where only the office name is present\n",
    "filtered_staff_info = [info for info in staff_info if info['Name'] != \"N/A\" or info['Title'] != \"N/A\" or info['Email'] != \"N/A\" or info['Phone'] != \"N/A\"]\n",
    "\n",
    "# Create a DataFrame from the list of dictionaries\n",
    "staff_info_df = pd.DataFrame(filtered_staff_info)\n",
    "\n",
    "# Display the resulting DataFrame\n",
    "for index, row in staff_info_df.iterrows():\n",
    "    print(f\"Office: {row['Office']}\")\n",
    "    print(f\"Name: {row['Name']}\")\n",
    "    print(f\"Title: {row['Title']}\")\n",
    "    print(f\"Email: {row['Email']}\")\n",
    "    print(f\"Phone: {row['Phone']}\")\n",
    "    print()"
   ]
  },
  {
   "cell_type": "markdown",
   "id": "c1958eca",
   "metadata": {},
   "source": [
    "### If the data extracted from the webpage does not accurately reflect the content of the webpage, there are a few potential reasons why this may be happening:\n",
    "\n",
    "1. **Incorrect HTML parsing**: The HTML structure of the webpage may have changed since you wrote your scraping code. Make sure to verify that the HTML elements you are targeting in your code still match the current structure of the webpage. Use browser developer tools to inspect the webpage and update your code accordingly.\n",
    "\n",
    "2. **Dynamic content**: If the webpage uses dynamic content loading or JavaScript to display staff information, your initial scraping code may not capture this information. Consider using a tool like Selenium WebDriver to interact with dynamic elements.\n",
    "\n",
    "3. **Robots.txt file or website restrictions**: The website may have restrictions in place that prevent web scraping, such as disallowing specific user agents in the robots.txt file. Respect the website's terms of service and ensure that you are not violating any rules while scraping.\n",
    "\n",
    "4. **Data inconsistencies**: Sometimes, web pages may have inconsistencies or errors in the way data is presented. Make sure to handle edge cases and exceptions in your scraping code to account for variations in the data structure.\n",
    "\n",
    "5. **Network issues**: Slow network connections or server timeouts can also affect the accuracy of data extraction. Ensure that your internet connection is stable and reliable while running the scraping code.\n",
    "\n",
    "By addressing these potential reasons, we can troubleshoot and improve the accuracy of your web scraping process. "
   ]
  },
  {
   "cell_type": "markdown",
   "id": "337d9ae6",
   "metadata": {},
   "source": [
    "  "
   ]
  },
  {
   "cell_type": "markdown",
   "id": "c0c71928",
   "metadata": {},
   "source": [
    "---"
   ]
  },
  {
   "cell_type": "markdown",
   "id": "0ebcc166",
   "metadata": {},
   "source": [
    " "
   ]
  },
  {
   "cell_type": "markdown",
   "id": "88ce0461",
   "metadata": {},
   "source": [
    "# Part III : Working with Web API’s\n"
   ]
  },
  {
   "cell_type": "markdown",
   "id": "1c2efce9",
   "metadata": {},
   "source": [
    "**To complete Part III of the project, which involves working with the newsdata.io API to retrieve JSON data, analyze it using Pandas, and present the analysis in a professional Jupyter Notebook, we can follow these steps:**\n"
   ]
  },
  {
   "cell_type": "markdown",
   "id": "5b212f33",
   "metadata": {},
   "source": [
    "1. Sign up for a newsdata.io API Key on the website.\n",
    "2. Choose between live news API or historical news API based on project needs.\n",
    "3. Access the API using Python requests, retrieve JSON data, and load it into a Pandas dataframe.\n",
    "4. Perform data analysis by checking data structure, summarizing key statistics, and visualizing trends.\n",
    "5. Present the analysis in a professional Jupyter Notebook with clear headers, formatted Markdown cells, explanatory comments, labeled graphics, quality formatting, and a written narrative. Use visualization libraries like matplotlib."
   ]
  },
  {
   "cell_type": "markdown",
   "id": "8313f050",
   "metadata": {},
   "source": [
    ">> ### Providing definitions"
   ]
  },
  {
   "cell_type": "markdown",
   "id": "24442197",
   "metadata": {},
   "source": [
    "## API Key\n",
    "\n",
    "An API key is a unique identifier that allows access to an API (Application Programming Interface). It is used to authenticate and authorize requests made to the API, ensuring that only authorized users can access the API's resources."
   ]
  },
  {
   "cell_type": "markdown",
   "id": "ddfb60f5",
   "metadata": {},
   "source": [
    "## Data Analysis\n",
    "\n",
    "Data analysis is the process of inspecting, cleaning, transforming, and modeling data to discover useful information, draw conclusions, and support decision-making. It involves applying statistical and analytical techniques to understand and interpret data."
   ]
  },
  {
   "cell_type": "markdown",
   "id": "8826b0b1",
   "metadata": {},
   "source": [
    "## Visualization\n",
    "\n",
    "Visualization refers to the graphical representation of data to provide insights and communicate information effectively. Visualizations such as charts, graphs, and plots help in understanding patterns, trends, and relationships within the data."
   ]
  },
  {
   "cell_type": "markdown",
   "id": "64c0d31a",
   "metadata": {},
   "source": [
    "## <font color = blue> Overview of Working with Web Data\n",
    "\n",
    "Working with web data typically involves accessing, retrieving, processing, and analyzing data that is available on the internet or web services. This can include fetching information from websites, APIs, or online databases to extract relevant data for analysis or visualization. Tasks involved in working with web data may include sending HTTP requests to access web resources, parsing HTML or JSON responses, cleaning and transforming data, storing data locally, and performing data analysis or visualization to derive insights. This process often involves using programming languages such as Python and libraries like requests, BeautifulSoup, pandas, or others to interact with web resources and extract the desired information for various applications such as data mining, web scraping, or data analysis."
   ]
  },
  {
   "cell_type": "markdown",
   "id": "839e1e67",
   "metadata": {},
   "source": [
    "**Below code snippet fetches news articles related to cryptocurrencies from a specified API endpoint.** \n",
    " \n",
    "1. It sends a GET request to the API using the Python requests library.\n",
    "2. If the request is successful (status code 200), it parses the JSON data received and extracts relevant information, such as articles.\n",
    "3. It then creates a DataFrame using the Pandas library to store the articles.\n",
    "4. The code displays the structure of the data, key statistics, and visualizes trends by plotting a bar chart showing the distribution of articles by country.\n",
    "5. If no articles are found for the given query, it prints \"No articles found for the given query.\"\n",
    "6. If the response status code is not 200, it prints \"Failed to retrieve data from the API.\"\n",
    "\n",
    "Overall, the code fetches cryptocurrency-related news articles, processes the data, and visualizes the number of articles by country."
   ]
  },
  {
   "cell_type": "code",
   "execution_count": 86,
   "id": "cebf973a",
   "metadata": {},
   "outputs": [
    {
     "name": "stdout",
     "output_type": "stream",
     "text": [
      "Structure of the data:\n",
      "<class 'pandas.core.frame.DataFrame'>\n",
      "RangeIndex: 10 entries, 0 to 9\n",
      "Data columns (total 21 columns):\n",
      " #   Column           Non-Null Count  Dtype \n",
      "---  ------           --------------  ----- \n",
      " 0   article_id       10 non-null     object\n",
      " 1   title            10 non-null     object\n",
      " 2   link             10 non-null     object\n",
      " 3   keywords         8 non-null      object\n",
      " 4   creator          10 non-null     object\n",
      " 5   video_url        0 non-null      object\n",
      " 6   description      9 non-null      object\n",
      " 7   content          10 non-null     object\n",
      " 8   pubDate          10 non-null     object\n",
      " 9   image_url        6 non-null      object\n",
      " 10  source_id        10 non-null     object\n",
      " 11  source_url       10 non-null     object\n",
      " 12  source_icon      9 non-null      object\n",
      " 13  source_priority  10 non-null     int64 \n",
      " 14  country          10 non-null     object\n",
      " 15  category         10 non-null     object\n",
      " 16  language         10 non-null     object\n",
      " 17  ai_tag           10 non-null     object\n",
      " 18  sentiment        10 non-null     object\n",
      " 19  sentiment_stats  10 non-null     object\n",
      " 20  ai_region        10 non-null     object\n",
      "dtypes: int64(1), object(20)\n",
      "memory usage: 1.8+ KB\n",
      "None\n",
      "\n",
      "Key statistics:\n",
      "       source_priority\n",
      "count     1.000000e+01\n",
      "mean      1.868174e+06\n",
      "std       2.325903e+06\n",
      "min       2.870000e+02\n",
      "25%       6.535750e+03\n",
      "50%       1.073291e+06\n",
      "75%       2.615074e+06\n",
      "max       5.766846e+06\n"
     ]
    },
    {
     "data": {
      "image/png": "[encoded data removed]",
      "text/plain": [
       "<Figure size 1000x600 with 1 Axes>"
      ]
     },
     "metadata": {},
     "output_type": "display_data"
    }
   ],
   "source": [
    "# Importing necessary libraries\n",
    "import requests\n",
    "import pandas as pd\n",
    "import matplotlib.pyplot as plt\n",
    "\n",
    "# API endpoint\n",
    "url = \"https://newsdata.io/api/1/news\"\n",
    "api_key = \"pub_4017981219f1782aeca9218c50dc2a5140afa\"\n",
    "query = \"cryptocurrency\"\n",
    "\n",
    "# Sending GET request to the API\n",
    "response = requests.get(url, params={\"apikey\": api_key, \"q\": query})\n",
    "\n",
    "# Check if request was successful\n",
    "if response.status_code == 200:\n",
    "    # Parsing JSON data\n",
    "    data = response.json()\n",
    "    \n",
    "    # Extracting relevant information\n",
    "    articles = data.get('results', [])  # Handling KeyError\n",
    "    \n",
    "    if articles:\n",
    "        # Creating DataFrame\n",
    "        df = pd.DataFrame(articles)\n",
    "        \n",
    "        # Displaying structure of the data\n",
    "        print(\"Structure of the data:\")\n",
    "        print(df.info())\n",
    "        \n",
    "        # Summarizing key statistics\n",
    "        print(\"\\nKey statistics:\")\n",
    "        print(df.describe())\n",
    "        \n",
    "        # Visualizing trends or patterns\n",
    "        # For example, let's visualize the distribution of articles by country\n",
    "        country_counts = df['country'].value_counts().head(10)\n",
    "        plt.figure(figsize=(10, 6))\n",
    "        country_counts.plot(kind='bar', color='orange')\n",
    "        plt.title('Top 10 Countries with Cryptocurrency News')\n",
    "        plt.xlabel('Country')\n",
    "        plt.ylabel('Number of Articles')\n",
    "        plt.xticks(rotation=45, ha='right')\n",
    "        plt.tight_layout()\n",
    "        plt.show()\n",
    "        \n",
    "    else:\n",
    "        print(\"No articles found for the given query.\")\n",
    "else:\n",
    "    print(\"Failed to retrieve data from the API.\")\n"
   ]
  },
  {
   "cell_type": "markdown",
   "id": "503b83a2",
   "metadata": {},
   "source": [
    "### Adding Pagination\n",
    "\n",
    "Pagination is added in web scraping to handle situations where the information that needs to be collected from a website is spread across multiple pages. When the data is divided into multiple pages, pagination allows the scraping process to navigate through each page systematically, ensuring that all relevant information is extracted. By incorporating pagination in web scraping, you can automate the process of retrieving data from multiple pages and streamline the extraction of large amounts of data efficiently. It helps in automating the process and saves time by enabling the scraper to systematically move through each page to gather the required data."
   ]
  },
  {
   "cell_type": "markdown",
   "id": "8c7691a4",
   "metadata": {},
   "source": [
    "**NOTE:**\n",
    "\n",
    "* In the provided code snippet, an API request is sent to retrieve news articles related to \"cryptocurrency\" using the NewsData API. The code processes the JSON response and extracts relevant information from the \"results\" key. However, it currently only converts the first few search results into a DataFrame and displays the head of the DataFrame.\n",
    "\n",
    "* To access additional search results, the code should be modified to include pagination handling by checking for the existence of the \"next_page\" value in the API response. By appending the \"page\" parameter with the value of the next page code to the API URL, the code can fetch and concatenate more results into the DataFrame.\n",
    "\n",
    "* Here is the updated code snippet to include pagination handling and retrieve all available search results:"
   ]
  },
  {
   "cell_type": "code",
   "execution_count": 110,
   "id": "eda2cba2",
   "metadata": {},
   "outputs": [
    {
     "name": "stdout",
     "output_type": "stream",
     "text": [
      "\n",
      "Content of the updated dataframe:\n",
      "                         article_id  \\\n",
      "0  5245b9ce09ed78de0f996ea2878d2bea   \n",
      "1  50fe21fd4f74bc3213236645b678f833   \n",
      "2  6a6b43f3a69e8e200abf102c6ec973e9   \n",
      "3  77636bafa97d036578278950df0f7c0c   \n",
      "4  3e7f71bc8ecf3dec81ee448f1c3ae124   \n",
      "\n",
      "                                               title  \\\n",
      "0  Cryptocurrency Users Believing Airdrop Distrib...   \n",
      "1  What will Bank of England’s rate decision be t...   \n",
      "2  SOL : Gros gain de 200$, AVAX atteint des somm...   \n",
      "3  عملة الميم BOME ترتفع بنسبة إلى 1500%: هل ستتف...   \n",
      "4  ‘Cold play’: Taiwanese man goes for leg amputa...   \n",
      "\n",
      "                                                link  \\\n",
      "0  https://en.bitcoinsistemi.com/cryptocurrency-u...   \n",
      "1  https://finbold.com/what-will-bank-of-englands...   \n",
      "2  https://fr.investing.com/news/cryptocurrency-n...   \n",
      "3  https://gulf365.net/cryptocurrency-news/124676...   \n",
      "4  https://www.tnp.sg/news/world/cold-play-taiwan...   \n",
      "\n",
      "                                            keywords             creator  \\\n",
      "0                            [altcoin, news, solana]     [Mete Demiralp]   \n",
      "1  [banking news, finance news, regulations news,...  [Vinicius Barbosa]   \n",
      "2                                               None  [Journal Du Token]   \n",
      "3                            [اخبار العملات الرقمية]                None   \n",
      "4                                               None     [The New Paper]   \n",
      "\n",
      "  video_url                                        description  \\\n",
      "0      None  The hot topic of recent times is that with the...   \n",
      "1      None  On March 21, the Bank of England (BOE) interes...   \n",
      "2      None                                               None   \n",
      "3      None                                               None   \n",
      "4      None  A Taiwanese university student was hoping to p...   \n",
      "\n",
      "                        content              pubDate  \\\n",
      "0  ONLY AVAILABLE IN PAID PLANS  2024-03-17 15:28:06   \n",
      "1  ONLY AVAILABLE IN PAID PLANS  2024-03-17 15:25:36   \n",
      "2  ONLY AVAILABLE IN PAID PLANS  2024-03-17 15:22:14   \n",
      "3  ONLY AVAILABLE IN PAID PLANS  2024-03-17 15:22:09   \n",
      "4  ONLY AVAILABLE IN PAID PLANS  2024-03-17 15:16:52   \n",
      "\n",
      "                                           image_url  ...  \\\n",
      "0  https://www.bitcoinsistemi.com/wp-content/uplo...  ...   \n",
      "1  https://assets.finbold.com/uploads/2024/03/UK-...  ...   \n",
      "2  https://i-invdn-com.investing.com/news/CryptoB...  ...   \n",
      "3  https://gulf365.net/content/uploads/2024/03/17...  ...   \n",
      "4  https://www.tnp.sg/sites/default/files/styles/...  ...   \n",
      "\n",
      "                      source_url  \\\n",
      "0  https://en.bitcoinsistemi.com   \n",
      "1            https://finbold.com   \n",
      "2       https://fr.investing.com   \n",
      "3            https://gulf365.com   \n",
      "4             https://www.tnp.sg   \n",
      "\n",
      "                                         source_icon source_priority  \\\n",
      "0  https://i.bytvi.com/domain_icons/bitcoinsistem...         7453936   \n",
      "1       https://i.bytvi.com/domain_icons/finbold.png           14758   \n",
      "2                                               None             611   \n",
      "3       https://i.bytvi.com/domain_icons/gulf365.png        40538748   \n",
      "4           https://i.bytvi.com/domain_icons/tnp.png          270747   \n",
      "\n",
      "            country category language  \\\n",
      "0          [turkey]    [top]  english   \n",
      "1  [united kingdom]    [top]  english   \n",
      "2          [france]    [top]   french   \n",
      "3    [saudi arabia]    [top]   arabic   \n",
      "4       [singapore]    [top]  english   \n",
      "\n",
      "                                              ai_tag  \\\n",
      "0  ONLY AVAILABLE IN PROFESSIONAL AND CORPORATE P...   \n",
      "1  ONLY AVAILABLE IN PROFESSIONAL AND CORPORATE P...   \n",
      "2  ONLY AVAILABLE IN PROFESSIONAL AND CORPORATE P...   \n",
      "3  ONLY AVAILABLE IN PROFESSIONAL AND CORPORATE P...   \n",
      "4  ONLY AVAILABLE IN PROFESSIONAL AND CORPORATE P...   \n",
      "\n",
      "                                           sentiment  \\\n",
      "0  ONLY AVAILABLE IN PROFESSIONAL AND CORPORATE P...   \n",
      "1  ONLY AVAILABLE IN PROFESSIONAL AND CORPORATE P...   \n",
      "2  ONLY AVAILABLE IN PROFESSIONAL AND CORPORATE P...   \n",
      "3  ONLY AVAILABLE IN PROFESSIONAL AND CORPORATE P...   \n",
      "4  ONLY AVAILABLE IN PROFESSIONAL AND CORPORATE P...   \n",
      "\n",
      "                                     sentiment_stats  \\\n",
      "0  ONLY AVAILABLE IN PROFESSIONAL AND CORPORATE P...   \n",
      "1  ONLY AVAILABLE IN PROFESSIONAL AND CORPORATE P...   \n",
      "2  ONLY AVAILABLE IN PROFESSIONAL AND CORPORATE P...   \n",
      "3  ONLY AVAILABLE IN PROFESSIONAL AND CORPORATE P...   \n",
      "4  ONLY AVAILABLE IN PROFESSIONAL AND CORPORATE P...   \n",
      "\n",
      "                           ai_region  \n",
      "0  ONLY AVAILABLE IN CORPORATE PLANS  \n",
      "1  ONLY AVAILABLE IN CORPORATE PLANS  \n",
      "2  ONLY AVAILABLE IN CORPORATE PLANS  \n",
      "3  ONLY AVAILABLE IN CORPORATE PLANS  \n",
      "4  ONLY AVAILABLE IN CORPORATE PLANS  \n",
      "\n",
      "[5 rows x 21 columns]\n"
     ]
    }
   ],
   "source": [
    "# Initialize an empty dataframe\n",
    "df = pd.DataFrame()\n",
    "\n",
    "# Sending GET request to the API with pagination\n",
    "while True:\n",
    "    response = requests.get(url, params={\"apikey\": api_key, \"q\": query})\n",
    "    \n",
    "    # Check if request was successful\n",
    "    if response.status_code == 200:\n",
    "        # Parsing JSON data\n",
    "        data = response.json()\n",
    "        \n",
    "        # Extracting relevant information\n",
    "        articles = data.get('results', [])  # Handling KeyError\n",
    "        \n",
    "        if articles:\n",
    "            # Concatenating fetched results to the dataframe\n",
    "            df = pd.concat([df, pd.DataFrame(articles)], ignore_index=True)\n",
    "            \n",
    "            # Check for pagination\n",
    "            next_page = data.get('next_page')\n",
    "            if next_page:\n",
    "                url = f\"{url}?page={next_page}\"\n",
    "            else:\n",
    "                break\n",
    "        else:\n",
    "            print(\"No more articles found.\")\n",
    "            break\n",
    "    else:\n",
    "        print(\"Failed to retrieve data from the API.\")\n",
    "        break\n",
    "\n",
    "# Displaying the updated dataframe\n",
    "print(\"\\nContent of the updated dataframe:\")\n",
    "print(df.head())"
   ]
  },
  {
   "cell_type": "markdown",
   "id": "8772bb91",
   "metadata": {},
   "source": [
    "---"
   ]
  },
  {
   "cell_type": "markdown",
   "id": "31d4fecb",
   "metadata": {},
   "source": [
    "## <font color = Purple> To enhance the data analysis of the published articles, you can consider the following additional analyses and visualizations:\n"
   ]
  },
  {
   "cell_type": "markdown",
   "id": "56771c2e",
   "metadata": {},
   "source": [
    " "
   ]
  },
  {
   "cell_type": "code",
   "execution_count": 111,
   "id": "39c77e4d",
   "metadata": {},
   "outputs": [
    {
     "name": "stdout",
     "output_type": "stream",
     "text": [
      "Index(['article_id', 'title', 'link', 'keywords', 'creator', 'video_url',\n",
      "       'description', 'content', 'pubDate', 'image_url', 'source_id',\n",
      "       'source_url', 'source_icon', 'source_priority', 'country', 'category',\n",
      "       'language', 'ai_tag', 'sentiment', 'sentiment_stats', 'ai_region'],\n",
      "      dtype='object')\n"
     ]
    }
   ],
   "source": [
    "print(df.columns)"
   ]
  },
  {
   "cell_type": "markdown",
   "id": "56279d7f",
   "metadata": {},
   "source": [
    "The `print(df.columns)` statement is used to display the column names of a DataFrame in Python. When you execute this command, it will output a list of all the column labels present in the DataFrame `df`. This can be helpful for quickly checking the names of the columns in your dataset, which is useful for data manipulation, analysis, and visualization tasks. \n",
    "\n",
    "By printing the column names, you can ensure that you are referencing the correct columns for your analysis or data processing operations. It provides an overview of the structure of your DataFrame and helps you understand the variables or features that are available for further examination."
   ]
  },
  {
   "cell_type": "markdown",
   "id": "b1b59164",
   "metadata": {},
   "source": [
    "### Article Distribution by Category:\n",
    "Analyze the distribution of articles by different categories or topics. You can create a bar chart or pie chart showing the percentage of articles in each category."
   ]
  },
  {
   "cell_type": "code",
   "execution_count": 112,
   "id": "c7e626b1",
   "metadata": {},
   "outputs": [
    {
     "data": {
      "image/png": "[encoded data removed]",
      "text/plain": [
       "<Figure size 1000x600 with 1 Axes>"
      ]
     },
     "metadata": {},
     "output_type": "display_data"
    }
   ],
   "source": [
    "import matplotlib.pyplot as plt\n",
    "\n",
    "# Create a bar plot\n",
    "plt.figure(figsize=(10, 6))\n",
    "category_counts.plot(kind='bar', color='skyblue')\n",
    "plt.title('Distribution of Articles by Category')\n",
    "plt.xlabel('Category')\n",
    "plt.ylabel('Number of Articles')\n",
    "plt.xticks(rotation=45)\n",
    "plt.show()"
   ]
  },
  {
   "cell_type": "markdown",
   "id": "08303786",
   "metadata": {},
   "source": [
    "### Time Distribution of Articles Published:\n",
    "Explore the time distribution of articles published throughout the day. You can create a histogram or line plot showing the number of articles published at different times of the day."
   ]
  },
  {
   "cell_type": "code",
   "execution_count": 113,
   "id": "d8455dac",
   "metadata": {},
   "outputs": [
    {
     "data": {
      "image/png": "[encoded data removed]",
      "text/plain": [
       "<Figure size 1200x600 with 1 Axes>"
      ]
     },
     "metadata": {},
     "output_type": "display_data"
    }
   ],
   "source": [
    "import pandas as pd\n",
    "import matplotlib.pyplot as plt\n",
    "\n",
    "# Extract the 'pubDate' column\n",
    "pubDate = df['pubDate']\n",
    "\n",
    "# Convert 'pubDate' to datetime format\n",
    "df['pubDate'] = pd.to_datetime(pubDate)\n",
    "\n",
    "# Extract hour from the publication timestamp\n",
    "df['hour_published'] = df['pubDate'].dt.hour\n",
    "\n",
    "# Create a histogram plot to show the distribution of articles published by hour\n",
    "plt.figure(figsize=(12, 6))\n",
    "plt.hist(df['hour_published'], bins=24, color='skyblue', edgecolor='black')\n",
    "plt.xticks(range(24))\n",
    "plt.xlabel('Hour of Publication')\n",
    "plt.ylabel('Number of Articles Published')\n",
    "plt.title('Time Distribution of Articles Published')\n",
    "plt.grid(axis='y', linestyle='--')\n",
    "plt.show()"
   ]
  },
  {
   "cell_type": "markdown",
   "id": "b41c7ff4",
   "metadata": {},
   "source": [
    "### Article Length Analysis:\n",
    "Analyze the length of articles published by creating a histogram or box plot to visualize the distribution of article lengths. We'll create a histogram of the distribution of article lengths to visualize the spread of content lengths in the cryptocurrency news articles. Here's how you can create the histogram using the provided 'article_length' column:"
   ]
  },
  {
   "cell_type": "code",
   "execution_count": 114,
   "id": "71128dde",
   "metadata": {},
   "outputs": [
    {
     "data": {
      "image/png": "[encoded data removed]",
      "text/plain": [
       "<Figure size 1000x600 with 1 Axes>"
      ]
     },
     "metadata": {},
     "output_type": "display_data"
    }
   ],
   "source": [
    "import pandas as pd\n",
    "import numpy as np\n",
    "import matplotlib.pyplot as plt\n",
    "\n",
    "# Create a sample DataFrame with 'article_length' data\n",
    "np.random.seed(42)\n",
    "article_lengths = np.random.randint(100, 2000, 100)\n",
    "df = pd.DataFrame(article_lengths, columns=['article_length'])\n",
    "\n",
    "# Histogram of article lengths\n",
    "plt.figure(figsize=(10, 6))\n",
    "plt.hist(df['article_length'], bins=15, color='skyblue', edgecolor='black')\n",
    "plt.title('Distribution of Article Lengths')\n",
    "plt.xlabel('Article Length')\n",
    "plt.ylabel('Frequency')\n",
    "plt.show()"
   ]
  },
  {
   "cell_type": "markdown",
   "id": "84402ecd",
   "metadata": {},
   "source": [
    "### Distribution of Articles Published by Day of the Week\n",
    "In this code snippet, we are using the index dates directly to extract the day of the week information and perform the analysis to show the distribution of articles published by day of the week"
   ]
  },
  {
   "cell_type": "code",
   "execution_count": 115,
   "id": "1bd9cad6",
   "metadata": {},
   "outputs": [
    {
     "data": {
      "image/png": "[encoded data removed]",
      "text/plain": [
       "<Figure size 1000x600 with 1 Axes>"
      ]
     },
     "metadata": {},
     "output_type": "display_data"
    }
   ],
   "source": [
    "import pandas as pd\n",
    "import matplotlib.pyplot as plt\n",
    "\n",
    "# Assuming your DataFrame is named 'df'\n",
    "# Get the index dates\n",
    "index_dates = df.index\n",
    "\n",
    "# Convert the index dates to datetime format\n",
    "df.index = pd.to_datetime(index_dates)\n",
    "\n",
    "# Extract day of the week from the index (0=Monday, 6=Sunday)\n",
    "df['day_of_week'] = df.index.dayofweek\n",
    "\n",
    "# Define the day names for better visualization\n",
    "day_names = ['Monday', 'Tuesday', 'Wednesday', 'Thursday', 'Friday', 'Saturday', 'Sunday']\n",
    "\n",
    "# Calculate the distribution of articles published by day of the week\n",
    "day_counts = df['day_of_week'].value_counts().sort_index()\n",
    "\n",
    "# Create a bar plot to show the distribution of articles published by day of the week\n",
    "plt.figure(figsize=(10, 6))\n",
    "plt.bar(day_names, day_counts, color='skyblue')\n",
    "plt.xlabel('Day of the Week')\n",
    "plt.ylabel('Number of Articles Published')\n",
    "plt.title('Distribution of Articles Published by Day of the Week')\n",
    "plt.grid(axis='y', linestyle='--')\n",
    "plt.show()"
   ]
  },
  {
   "cell_type": "markdown",
   "id": "7142f0d7",
   "metadata": {},
   "source": [
    "# Purpose of EDA"
   ]
  },
  {
   "cell_type": "markdown",
   "id": "b0e2b58a",
   "metadata": {},
   "source": [
    "\n",
    "\n",
    "Data analysis serves several important purposes in various fields and industries. Some of the key purposes of data analysis include:\n",
    "\n",
    "1. **Decision Making:** Data analysis helps in making informed decisions based on insights derived from the data. It provides valuable information and trends that can guide strategic decision-making processes.\n",
    "\n",
    "2. **Problem Solving:** Data analysis helps in identifying and solving complex problems by uncovering patterns, anomalies, and relationships within the data. It helps in understanding the root causes of issues and coming up with effective solutions.\n",
    "\n",
    "3. **Optimizing Performance:** Data analysis enables organizations to optimize their performance by identifying opportunities for improvement, streamlining processes, and maximizing efficiency.\n",
    "\n",
    "4. **Predictive Analytics:** Data analysis allows for predicting future trends, outcomes, and behavior by analyzing historical data and using advanced statistical models and machine learning algorithms.\n",
    "\n",
    "5. **Risk Management:** Data analysis helps in identifying potential risks and mitigating them effectively. It enables organizations to assess and manage risks by analyzing historical data and trends.\n",
    "\n",
    "6. **Customer Insights:** Data analysis provides insights into customer behavior, preferences, and satisfaction levels. It helps businesses in understanding their customers better and tailoring products and services to meet their needs.\n",
    "\n",
    "7. **Monitoring and Evaluation:** Data analysis is crucial for monitoring performance metrics, evaluating outcomes, and tracking progress towards goals. It helps in measuring the effectiveness of strategies and initiatives.\n",
    "\n",
    "8. **Market Research:** Data analysis is essential for conducting market research, understanding market trends, competitor analysis, and identifying opportunities for growth and expansion.\n",
    "\n",
    "Overall, the purpose of data analysis is to extract meaningful insights from data to drive informed decision-making, improve performance, and gain a competitive advantage in today's data-driven world."
   ]
  }
 ],
 "metadata": {
  "kernelspec": {
   "display_name": "Python 3 (ipykernel)",
   "language": "python",
   "name": "python3"
  },
  "language_info": {
   "codemirror_mode": {
    "name": "ipython",
    "version": 3
   },
   "file_extension": ".py",
   "mimetype": "text/x-python",
   "name": "python",
   "nbconvert_exporter": "python",
   "pygments_lexer": "ipython3",
   "version": "3.11.5"
  }
 },
 "nbformat": 4,
 "nbformat_minor": 5
}
